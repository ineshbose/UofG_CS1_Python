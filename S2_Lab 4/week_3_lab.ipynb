{
 "cells": [
  {
   "cell_type": "markdown",
   "metadata": {},
   "source": [
    "## Task 1: Quick Sort using Recursion and List Comprehension\n",
    "\n",
    "Implement QuickSort to use list comprehension alongside recursion. Pick any element in the list as a pivot."
   ]
  },
  {
   "cell_type": "code",
   "execution_count": 1,
   "metadata": {},
   "outputs": [],
   "source": [
    "def quick_sort(a):    \n",
    "    if len(a) < 2:\n",
    "        return a\n",
    "    else:\n",
    "        pivot = a[0]\n",
    "        less = quick_sort([i for i in a if i < pivot])\n",
    "        greater = quick_sort([i for i in a if i > pivot])\n",
    "        return less + [pivot] + greater"
   ]
  },
  {
   "cell_type": "markdown",
   "metadata": {},
   "source": [
    "## Task 2: Recursive Implementation of Binary Search\n",
    "\n",
    "Implement a recursive binary search."
   ]
  },
  {
   "cell_type": "code",
   "execution_count": 2,
   "metadata": {},
   "outputs": [],
   "source": [
    "def binarySearch (arr, l, r, x): \n",
    "    if r >= l: \n",
    "        mid = l + (r - l)/2\n",
    "        if arr[mid] == x: \n",
    "            return mid \n",
    "        elif arr[mid] > x: \n",
    "            return binarySearch(arr, l, mid-1, x)\n",
    "        else: \n",
    "            return binarySearch(arr, mid+1, r, x) \n",
    "    else:\n",
    "        return -1"
   ]
  },
  {
   "cell_type": "markdown",
   "metadata": {},
   "source": [
    "## Task 3: First and Last Occurrence in Linear & Binary Search\n",
    "\n",
    "1. Implement a function that returns the indexes of both: the first occurrence and the last occurrence of an integer in a sorted list of integers."
   ]
  },
  {
   "cell_type": "code",
   "execution_count": 3,
   "metadata": {},
   "outputs": [],
   "source": [
    "def firstAndLast(l, n, no):\n",
    "    first = -1\n",
    "    last = -1\n",
    "    for i in range(n) : \n",
    "        if no == l[i]:\n",
    "            if first == -1:\n",
    "                first = i\n",
    "            last = i            \n",
    "    if first != -1: \n",
    "        print(\"First occurrence = \", first, \"\\nLast occurrence= \", last) \n",
    "    else:\n",
    "        print(\"Not Found\")"
   ]
  },
  {
   "cell_type": "markdown",
   "metadata": {},
   "source": [
    "2. Modify the binary search algorithm to return the indexes of both: the first occurrence and the last occurrence of an integer in a sorted list of integers."
   ]
  },
  {
   "cell_type": "code",
   "execution_count": 4,
   "metadata": {},
   "outputs": [],
   "source": [
    "def first(l, low, high, no, n): \n",
    "    if high >= low:\n",
    "        mid = low + (high - low) // 2\n",
    "        if (mid == 0 or no > l[mid - 1]) and l[mid] == no: \n",
    "            return mid\n",
    "        elif no > l[mid]: \n",
    "            return first(l, (mid + 1), high, no, n) \n",
    "        else: \n",
    "            return first(l, low, (mid - 1), no, n) \n",
    "    return -1\n",
    "\n",
    "def last(l, low, high, no, n): \n",
    "    if high >= low:\n",
    "        mid = low + (high - low) // 2\n",
    "        if (mid == n - 1 or no < l[mid + 1]) and l[mid] == no: \n",
    "            return mid \n",
    "        elif no < l[mid]: \n",
    "            return last(l, low, (mid - 1), no, n) \n",
    "        else: \n",
    "            return last(l, (mid + 1), high, no, n)   \n",
    "    return -1"
   ]
  }
 ],
 "metadata": {
  "kernelspec": {
   "display_name": "Python 3",
   "language": "python",
   "name": "python3"
  },
  "language_info": {
   "codemirror_mode": {
    "name": "ipython",
    "version": 3
   },
   "file_extension": ".py",
   "mimetype": "text/x-python",
   "name": "python",
   "nbconvert_exporter": "python",
   "pygments_lexer": "ipython3",
   "version": "3.7.4"
  }
 },
 "nbformat": 4,
 "nbformat_minor": 2
}
