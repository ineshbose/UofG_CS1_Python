{
 "cells": [
  {
   "cell_type": "markdown",
   "metadata": {},
   "source": [
    "## Task 1: Birthday Book\n",
    "\n",
    "The idea of this exercise is to store people's birthdays and produce reminders of birthdays that are coming up. A birthday consists of a month and a date, which can be represented by a dictionary such as\n",
    "\n",
    "```\n",
    "{ \"month\": \"Sep\", \"day\": 17 }\n",
    "```\n",
    "\n",
    "The birthday book is a dictionary in which the keys are people’s names, and the values are birthdays, represented as dictionaries as above. The functions you have to define are described below; they should all take a birthday book as a parameter, as well as any other parameter specified below. Before you start coding, make sure you have a clear idea of how to produce the desired information.\n",
    "\n",
    "1. Write some code to set up a birthday book with several people and their birthdays, for testing purposes."
   ]
  },
  {
   "cell_type": "code",
   "execution_count": 1,
   "metadata": {},
   "outputs": [],
   "source": [
    "book = {}\n",
    "\n",
    "book[\"Simon\"] = { \"month\":\"Sep\", \"date\":17 }\n",
    "book[\"Dorothy\"] = { \"month\":\"Sep\", \"date\":18 }\n",
    "book[\"Tina\"] = { \"month\":\"May\", \"date\":7 }\n",
    "book[\"Sue\"] = { \"month\":\"Sep\", \"date\":14 }\n",
    "book[\"Phil\"] = { \"month\":\"Jun\", \"date\":7 }\n",
    "book[\"Sally\"] = { \"month\":\"Jul\", \"date\":27 }\n",
    "book[\"John\"] = { \"month\":\"Dec\", \"date\":30 }\n",
    "book[\"Anne\"] = { \"month\":\"Jan\", \"date\":2 }\n",
    "\n",
    "months = { \"Jan\":31, \"Feb\":29, \"Mar\":31, \"Apr\":30, \"May\":31, \"Jun\":30,\n",
    "           \"Jul\":31, \"Aug\":31, \"Sep\":30, \"Oct\":31, \"Nov\":30, \"Dec\":31 }\n",
    "\n",
    "monthOrder = [ \"Jan\", \"Feb\", \"Mar\", \"Apr\", \"May\", \"Jun\",\n",
    "               \"Jul\", \"Aug\", \"Sep\", \"Oct\", \"Nov\", \"Dec\" ]"
   ]
  },
  {
   "cell_type": "markdown",
   "metadata": {},
   "source": [
    "2. Define a function, which, given a person's name, prints his or her birthday."
   ]
  },
  {
   "cell_type": "code",
   "execution_count": 2,
   "metadata": {},
   "outputs": [],
   "source": [
    "def printBirthday(name,date):\n",
    "    print(name, \":\", date[\"month\"], date[\"date\"])\n",
    "    \n",
    "def birthday(name,book):\n",
    "    if name in book:\n",
    "        printBirthday(name,book[name])\n",
    "    else:\n",
    "        print(name, \"is not in the birthday book.\")"
   ]
  },
  {
   "cell_type": "markdown",
   "metadata": {},
   "source": [
    "3. Define a function which, given a month, prints a list of all the people who have birthdays in that month, with the dates."
   ]
  },
  {
   "cell_type": "code",
   "execution_count": 3,
   "metadata": {},
   "outputs": [],
   "source": [
    "def findInMonth(month,book):\n",
    "    if not(month in months.keys()):\n",
    "        print(month, \"is not a month.\")\n",
    "    else:\n",
    "        for name in book:\n",
    "             if book[name][\"month\"] == month:\n",
    "                printBirthday(name,book[name])"
   ]
  },
  {
   "cell_type": "markdown",
   "metadata": {},
   "source": [
    "4. Define a function which given a month and a date, prints a list of all the people who have birthdays within the next week, with the dates. Don't forget that some of these birthdays might be in the next month, and if the given date is in December, some of them might be in January."
   ]
  },
  {
   "cell_type": "code",
   "execution_count": 4,
   "metadata": {},
   "outputs": [],
   "source": [
    "def validDate(month,date):\n",
    "    if month in months:\n",
    "        return date >= 1 and date <= months[month]\n",
    "    else:\n",
    "        return False\n",
    "    \n",
    "def dayNumber(month,date):\n",
    "    days = 0\n",
    "    m = 0\n",
    "    while monthOrder[m] != month:\n",
    "        days = days + months[monthOrder[m]]\n",
    "        m = m + 1\n",
    "    days = days + date\n",
    "    return days\n",
    "\n",
    "def findSoon(month,date,book):\n",
    "    if validDate(month,date):\n",
    "        dayNum = dayNumber(month,date)\n",
    "        for name in book.keys():\n",
    "            d = book[name]\n",
    "            dn = dayNumber(d[\"month\"],d[\"date\"])\n",
    "            if dn < dayNum:\n",
    "                dn = dn + 366\n",
    "            if dayNum <= dn <= dayNum + 7:\n",
    "                printBirthday(name,d)\n",
    "    else:\n",
    "        print(\"Invalid date entered.\")"
   ]
  },
  {
   "cell_type": "markdown",
   "metadata": {},
   "source": [
    "## Task 2: Reading Birthdays from a File\n",
    "\n",
    "The aim of this task is to define a function getBirthdays which takes a file name as a parameter and reads birthdays from the file, storing them in a dictionary which should also be a parameter of the function. The first line of the function definition should therefore be\n",
    "\n",
    "```python\n",
    "def getBirthdays(fileName, book):\n",
    "```\n",
    "\n",
    "The file should contain a number of lines with one birthday per line, in the following format:\n",
    "\n",
    "```\n",
    "John,Mar,23\n",
    "Susan,Feb,16\n",
    "```\n",
    "\n",
    "and so on. The file `birthdays.txt` contains some data that you can use for testing."
   ]
  },
  {
   "cell_type": "code",
   "execution_count": 5,
   "metadata": {},
   "outputs": [],
   "source": [
    "def getBirthdays(fileName,book):\n",
    "    with open(fileName,\"r\") as f:\n",
    "        line = f.readline()\n",
    "        while line != \"\":\n",
    "            line = line[:-1]\n",
    "            data = line.split(\",\")\n",
    "            book[data[0]] = { \"month\":data[1], \"date\":int(data[2]) }\n",
    "            line = f.readline()\n",
    "            \n",
    "def addBirthday(name,month,date,book):\n",
    "    book[name] = { \"month\":month, \"date\":date }"
   ]
  },
  {
   "cell_type": "markdown",
   "metadata": {},
   "source": [
    "## Task 3: Menu\n",
    "\n",
    "The task now is to combine the functions you have implemented so far into a complete application.\n",
    "\n",
    "Write a program which repeatedly asks the user to enter a command, asks for further details if necessary, and carries out the corresponding operation. For example, one command could be \"read\"; in this case the program should ask the user to enter a filename, and then read birthdays from that file into the birthday book. There should be a textual menu with a command for each of the operations from Task 2 and 3, as well as a command \"quit\" which terminates the program. Later in the course we will see how to build a graphical user interface instead of using keyboard input.\n",
    "\n",
    "Also add a command (and a function) allowing a new birthday to be entered. "
   ]
  },
  {
   "cell_type": "code",
   "execution_count": 6,
   "metadata": {},
   "outputs": [
    {
     "name": "stdout",
     "output_type": "stream",
     "text": [
      "======= MENU =======\n",
      "1:  look up a birthday\n",
      "2:  find birthdays in a given month\n",
      "3:  find birthdays in the next week\n",
      "4:  add a birthday\n",
      "5:  read birthdays from a file\n",
      "0:  quit\n",
      "Enter input: 0\n"
     ]
    }
   ],
   "source": [
    "def getChoice():\n",
    "    print(\"======= MENU =======\")\n",
    "    print(\"1:  look up a birthday\")\n",
    "    print(\"2:  find birthdays in a given month\")\n",
    "    print(\"3:  find birthdays in the next week\")\n",
    "    print(\"4:  add a birthday\")\n",
    "    print(\"5:  read birthdays from a file\")\n",
    "    print(\"0:  quit\")\n",
    "    choice = input(\"Enter input: \")\n",
    "    return choice\n",
    "\n",
    "c = getChoice()\n",
    "while c != \"0\":\n",
    "    if c == \"1\":\n",
    "        name = input(\"Enter the name: \")\n",
    "        birthday(name,book)\n",
    "    elif c == \"2\":\n",
    "        month = input(\"Enter the month: \")\n",
    "        findInMonth(month,book)\n",
    "    elif c == \"3\":\n",
    "        month = input(\"Enter the current month: \")\n",
    "        date = int(input(\"Enter the current date: \"))\n",
    "        findSoon(month,date,book)\n",
    "    elif c == \"4\":\n",
    "        name = input(\"Enter the name: \")\n",
    "        month = input(\"Enter the month: \")\n",
    "        date = int(input(\"Enter the date: \"))\n",
    "        addBirthday(name,month,date,book)\n",
    "    elif c == \"5\":\n",
    "        fileName = input(\"Enter the file name: \")\n",
    "        getBirthdays(fileName,book)\n",
    "    else:\n",
    "        print(\"You did not choose a valid option\")\n",
    "    c = getChoice()"
   ]
  },
  {
   "cell_type": "markdown",
   "metadata": {},
   "source": [
    "## Task 4: Handling Errors\n",
    "\n",
    "This exercise is to make the birthday book program robust by detecting and/or handling as many errors as possible and giving informative error messages to the user. There are many possibilities for errors in the input to the program. For example, the file of birthdays might not exist or might not have the correct format; the dates can be invalid (e.g. Feb 31); when finding a person's birthday, the person might not be in the birthday book; when asking for birthdays in a given month, the name of the month might be incorrect; the user might enter an incorrect command in response to the top-level prompt; and so on.\n",
    "\n",
    "Modify the birthday book program so that as many errors as you can think of are detected. In some cases, for example trying to open a non-existent file, you should handle the exception raised by the built-in Python function. In other cases, you might like to raise and handle your own exceptions, or you might prefer to use other techniques (for example, checking that the top-level command is correct can be done easily with a series of if statements)."
   ]
  }
 ],
 "metadata": {
  "kernelspec": {
   "display_name": "Python 3",
   "language": "python",
   "name": "python3"
  },
  "language_info": {
   "codemirror_mode": {
    "name": "ipython",
    "version": 3
   },
   "file_extension": ".py",
   "mimetype": "text/x-python",
   "name": "python",
   "nbconvert_exporter": "python",
   "pygments_lexer": "ipython3",
   "version": "3.7.4"
  }
 },
 "nbformat": 4,
 "nbformat_minor": 2
}
