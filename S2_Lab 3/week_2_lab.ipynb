{
 "cells": [
  {
   "cell_type": "markdown",
   "metadata": {},
   "source": [
    "## Task 1: The *join* function\n",
    "\n",
    "1. Write a function *join* which, given two lists, returns a list in which each element is a list of two elements, one from each of the given lists. Assume both lists have same length."
   ]
  },
  {
   "cell_type": "code",
   "execution_count": 1,
   "metadata": {},
   "outputs": [],
   "source": [
    "def join(l1, l2):\n",
    "    l = []\n",
    "    for i in range(len(l1)):\n",
    "        l.append([l1[i], l2[i]])\n",
    "    return l"
   ]
  },
  {
   "cell_type": "markdown",
   "metadata": {},
   "source": [
    "2. Write tests for the function: Each test should print two lists and the result of applying *join* to them. You might want to use the idea of generating test cases randomly. Also, make sure that you test the case of two empty lists, the case of two lists with just one element each, and a range of other lengths."
   ]
  },
  {
   "cell_type": "code",
   "execution_count": 2,
   "metadata": {},
   "outputs": [
    {
     "name": "stdout",
     "output_type": "stream",
     "text": [
      "[94, 43, 40, 33, 32, 91, 65, 53, 5, 38, 15, 12, 90, 19]\n",
      "[18, 14, 70, 55, 3, 50, 13, 14, 73, 37, 50, 10, 68, 54]\n",
      "[[94, 18], [43, 14], [40, 70], [33, 55], [32, 3], [91, 50], [65, 13], [53, 14], [5, 73], [38, 37], [15, 50], [12, 10], [90, 68], [19, 54]]\n"
     ]
    }
   ],
   "source": [
    "import random\n",
    "\n",
    "a = []\n",
    "b = []\n",
    "\n",
    "for i in range(random.randint(2,100)):\n",
    "    a.append(random.randint(1,100))\n",
    "    b.append(random.randint(1,100))\n",
    "\n",
    "print(a)\n",
    "print(b)\n",
    "print(join(a,b))"
   ]
  },
  {
   "cell_type": "markdown",
   "metadata": {},
   "source": [
    "3. Write *split*, the opposite of *join* which, given a nested list where each element is itself a list of two elements, it breaks it down to two different lists."
   ]
  },
  {
   "cell_type": "code",
   "execution_count": 3,
   "metadata": {},
   "outputs": [],
   "source": [
    "def split(l):\n",
    "    l1 = []\n",
    "    l2 = []\n",
    "    for i in range(len(l)):\n",
    "        l1.append(l[i][0])\n",
    "        l2.append(l[i][1])\n",
    "    return l1,l2"
   ]
  },
  {
   "cell_type": "markdown",
   "metadata": {},
   "source": [
    "## Task 2: Shaker Sort\n",
    "\n",
    "*ShakerSort* is an optimization of the BubbleSort, that performs passes in both directions (simultaneously), allowing out-of-place items to move fast across the whole list.\n",
    "\n",
    "Write a method *ShakerSort* to implement this algorithm."
   ]
  },
  {
   "cell_type": "code",
   "execution_count": 4,
   "metadata": {},
   "outputs": [],
   "source": [
    "def shakerSort(l):\n",
    "    for i in range(len(l)//2): \n",
    "        j = i\n",
    "        while j < len(l) and j < len(l) - 1 - i:\n",
    "            if l[j] > l[j+1]:\n",
    "                l[j], l[j+1] = l[j+1], l[j]\n",
    "            j += 1\n",
    "        k = len(l) - i - 1\n",
    "        while k > i:\n",
    "            if l[k] < l[k-1]:\n",
    "                l[k], l[k-1] = l[k-1], l[k]\n",
    "            k -= 1\n",
    "    return l"
   ]
  },
  {
   "cell_type": "code",
   "execution_count": 5,
   "metadata": {},
   "outputs": [
    {
     "data": {
      "text/plain": [
       "[1, 2, 3, 5, 8, 10, 11]"
      ]
     },
     "execution_count": 5,
     "metadata": {},
     "output_type": "execute_result"
    }
   ],
   "source": [
    "l1 = [2, 6, 8, 1, 7, 9, 4, 3, 5]\n",
    "l2 = [10, 11, 3, 2, 5, 8, 1]\n",
    "\n",
    "shakerSort(l1)\n",
    "shakerSort(l2)"
   ]
  },
  {
   "cell_type": "markdown",
   "metadata": {},
   "source": [
    "## Task 3: The Odd-Even Sort\n",
    "\n",
    "The *odd-even sort* algorithm is based on repeatedly making two passes on a list:\n",
    "\n",
    "1. The first pass examines pairs of items a[j], a[j+1] where j is odd.\n",
    "2. The second pass examines pairs of items a[i], a[i+1] where i is even.\n",
    "3. In each pass, the following occurs: if the contents of the pair being examined are unordered, then the elements are swapped.\n",
    "4. Repeat passes until list is sorted.\n",
    "\n",
    "Write a function `oddEvenSort` that implements the Odd-Even sort algorithm."
   ]
  },
  {
   "cell_type": "code",
   "execution_count": 6,
   "metadata": {},
   "outputs": [],
   "source": [
    "def oddEvenSort(l):\n",
    "    for k in range(len(l)//2+len(l)%2): \n",
    "        for j in range(1,len(l)-1,2):\n",
    "            if l[j] > l[j+1]:\n",
    "                l[j], l[j+1] = l[j+1], l[j]\n",
    "        for i in range(0,len(l)-1,2):\n",
    "            if l[i] > l[i+1]:\n",
    "                l[i], l[i+1] = l[i+1], l[i]            \n",
    "    return l"
   ]
  },
  {
   "cell_type": "code",
   "execution_count": 7,
   "metadata": {},
   "outputs": [
    {
     "data": {
      "text/plain": [
       "[5, 6, 7, 8, 9, 10]"
      ]
     },
     "execution_count": 7,
     "metadata": {},
     "output_type": "execute_result"
    }
   ],
   "source": [
    "l1 = [2, 6, 8, 1, 7, 9, 4, 3, 5]\n",
    "l2 = [10, 11, 3, 2, 5, 8, 1]\n",
    "l3 = [10, 3, 2, 5, 8, 1]\n",
    "l4 = [10, 9, 8, 7, 6, 5]\n",
    "\n",
    "oddEvenSort(l1)\n",
    "oddEvenSort(l2)\n",
    "oddEvenSort(l3)\n",
    "oddEvenSort(l4)"
   ]
  }
 ],
 "metadata": {
  "kernelspec": {
   "display_name": "Python 3",
   "language": "python",
   "name": "python3"
  },
  "language_info": {
   "codemirror_mode": {
    "name": "ipython",
    "version": 3
   },
   "file_extension": ".py",
   "mimetype": "text/x-python",
   "name": "python",
   "nbconvert_exporter": "python",
   "pygments_lexer": "ipython3",
   "version": "3.7.4"
  }
 },
 "nbformat": 4,
 "nbformat_minor": 2
}
