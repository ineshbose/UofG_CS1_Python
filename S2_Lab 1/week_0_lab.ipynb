{
 "cells": [
  {
   "cell_type": "markdown",
   "metadata": {},
   "source": [
    "## Task 1:  List Manipulations\n",
    "\n",
    "Write the following functions in Python.\n",
    "\n",
    "1. `flatten(a)`: Write a function that flattens a list."
   ]
  },
  {
   "cell_type": "code",
   "execution_count": 1,
   "metadata": {},
   "outputs": [],
   "source": [
    "def flatten(a):\n",
    "    if a == []:\n",
    "        return a\n",
    "    if isinstance(a[0], list):\n",
    "        return flatten(a[0]) + flatten(a[1:])\n",
    "    return a[:1] + flatten(a[1:])"
   ]
  },
  {
   "cell_type": "markdown",
   "metadata": {},
   "source": [
    "2. `identical(a, b)`: Write a python program to check whether two lists are circularly identical."
   ]
  },
  {
   "cell_type": "code",
   "execution_count": 2,
   "metadata": {},
   "outputs": [],
   "source": [
    "def identical(a, b):\n",
    "    return (' '.join(map(str, b)) in ' '.join(map(str, a*2)))"
   ]
  },
  {
   "cell_type": "markdown",
   "metadata": {},
   "source": [
    "3. `chunks(list, size)`: Split list to chunks with this function taking the list and the size for the chunks required."
   ]
  },
  {
   "cell_type": "code",
   "execution_count": 3,
   "metadata": {},
   "outputs": [],
   "source": [
    "def chunks(l, size):\n",
    "    for i in range(0, len(l), size):\n",
    "        yield l[i:i + size]"
   ]
  },
  {
   "cell_type": "markdown",
   "metadata": {},
   "source": [
    "## Task 2: Tuple Manipulations\n",
    "\n",
    "Write the following functions in Python.\n",
    "\n",
    "1. `sortbyfloat(a)`: Write a Python function to sort a list by the tuples' second, float element."
   ]
  },
  {
   "cell_type": "code",
   "execution_count": 4,
   "metadata": {},
   "outputs": [],
   "source": [
    "def sortbyfloat(a):\n",
    "    return sorted(a, key=lambda x: float(x[1]), reverse=True)"
   ]
  },
  {
   "cell_type": "markdown",
   "metadata": {},
   "source": [
    "2. `addbyelement(t1, t2)`: Write a function that adds two tuples by elements."
   ]
  },
  {
   "cell_type": "code",
   "execution_count": 5,
   "metadata": {},
   "outputs": [],
   "source": [
    "def addbyelement(t1, t2):\n",
    "    return tuple(map(sum, zip(t1, t2)))"
   ]
  },
  {
   "cell_type": "markdown",
   "metadata": {},
   "source": [
    "## Task 3: Dictionary Manipulations\n",
    "\n",
    "Write the following functions in Python.\n",
    "\n",
    "1. `applyfunondict(a, myfun)`: Write a function that applies a function on the values of a dictionary."
   ]
  },
  {
   "cell_type": "code",
   "execution_count": 6,
   "metadata": {},
   "outputs": [],
   "source": [
    "def myfun(a):\n",
    "    return a**2\n",
    "\n",
    "def applyfunondict(a, myfun):\n",
    "  for k, v in a.items():\n",
    "    if isinstance(v, dict):\n",
    "      a[k] = applyfunondict(v, myfun)\n",
    "    else:\n",
    "      a[k] = myfun(v)\n",
    "  return d"
   ]
  },
  {
   "cell_type": "markdown",
   "metadata": {},
   "source": [
    "2. `comparedicts(dict1, dict2)`: Write a function that compares two dictionaries by both their keys and values and return a boolean (without using `cmp()` or `==`)."
   ]
  },
  {
   "cell_type": "code",
   "execution_count": 7,
   "metadata": {},
   "outputs": [],
   "source": [
    "def comparedicts(dict1, dict2):\n",
    "    sharedItems = len(set(dict1.items()) & set(dict2.items()))\n",
    "    if sharedItems == len(dict2) and sharedItems == len(dict1):\n",
    "        return True\n",
    "    return False"
   ]
  },
  {
   "cell_type": "markdown",
   "metadata": {},
   "source": [
    "3. `differences(dict1, dict2)`: Write a function that displays the differences between two dictionaries by returning a set of tuples."
   ]
  },
  {
   "cell_type": "code",
   "execution_count": 8,
   "metadata": {},
   "outputs": [],
   "source": [
    "def differences(dict1, dict2):\n",
    "    return set(dict1.items()) ^ set(dict2.items())"
   ]
  },
  {
   "cell_type": "markdown",
   "metadata": {},
   "source": [
    "## Task 4: Organising a Concert\n",
    "\n",
    "Suppose you are putting together a concert and need to figure out how much to charge for a ticket. Your total expenses are £8000 (band and venue). The venue can seat at most 2000 people and you have determined through market research that the number of tickets you are likely to sell is related to the ticket’s selling price by the following relationship:\n",
    "\n",
    "<br /><center><h3>sales = 2500 - 80 * prices</h3></center><br />\n",
    "\n",
    "According to this relationship, if you give away tickets for free, you will overfill the venue. On the other hand, if you charge too much, you won’t be able to sell tickets at all. Your total income from the ticket sales will be `sales * price` and your profit will be this amount minus your expenses which are £8000.\n",
    "\n",
    "<br />\n",
    "\n",
    "Write a program to determine the most profitable ticket price, by creating a function that prints a table for each possible ticket price from £0 up to the maxPrice parameter that is given to this function as an argument. Name your function as `profitTable(maxPrice)`."
   ]
  },
  {
   "cell_type": "code",
   "execution_count": 9,
   "metadata": {},
   "outputs": [
    {
     "name": "stdout",
     "output_type": "stream",
     "text": [
      "Price\tIncome\tProfit\n",
      "-----\t------\t------\n",
      "sales @ 1 : 2420\n",
      "income @ 1 : 2000\n",
      "profit @ 1 : -6000\n",
      "sales @ 2 : 2340\n",
      "income @ 2 : 4000\n",
      "profit @ 2 : -4000\n",
      "sales @ 3 : 2260\n",
      "income @ 3 : 6000\n",
      "profit @ 3 : -2000\n",
      "sales @ 4 : 2180\n",
      "income @ 4 : 8000\n",
      "profit @ 4 : 0\n",
      "sales @ 5 : 2100\n",
      "income @ 5 : 10000\n",
      "profit @ 5 : 2000\n",
      "sales @ 6 : 2020\n",
      "income @ 6 : 12000\n",
      "profit @ 6 : 4000\n",
      "sales @ 7 : 1940\n",
      "income @ 7 : 13580\n",
      "profit @ 7 : 5580\n",
      "sales @ 8 : 1860\n",
      "income @ 8 : 14880\n",
      "profit @ 8 : 6880\n",
      "sales @ 9 : 1780\n",
      "income @ 9 : 16020\n",
      "profit @ 9 : 8020\n",
      "sales @ 10 : 1700\n",
      "income @ 10 : 17000\n",
      "profit @ 10 : 9000\n",
      "sales @ 11 : 1620\n",
      "income @ 11 : 17820\n",
      "profit @ 11 : 9820\n",
      "sales @ 12 : 1540\n",
      "income @ 12 : 18480\n",
      "profit @ 12 : 10480\n",
      "sales @ 13 : 1460\n",
      "income @ 13 : 18980\n",
      "profit @ 13 : 10980\n",
      "sales @ 14 : 1380\n",
      "income @ 14 : 19320\n",
      "profit @ 14 : 11320\n",
      "sales @ 15 : 1300\n",
      "income @ 15 : 19500\n",
      "profit @ 15 : 11500\n",
      "sales @ 16 : 1220\n",
      "income @ 16 : 19520\n",
      "profit @ 16 : 11520\n",
      "sales @ 17 : 1140\n",
      "income @ 17 : 19380\n",
      "profit @ 17 : 11380\n",
      "sales @ 18 : 1060\n",
      "income @ 18 : 19080\n",
      "profit @ 18 : 11080\n",
      "sales @ 19 : 980\n",
      "income @ 19 : 18620\n",
      "profit @ 19 : 10620\n",
      "sales @ 20 : 900\n",
      "income @ 20 : 18000\n",
      "profit @ 20 : 10000\n",
      "sales @ 21 : 820\n",
      "income @ 21 : 17220\n",
      "profit @ 21 : 9220\n",
      "sales @ 22 : 740\n",
      "income @ 22 : 16280\n",
      "profit @ 22 : 8280\n",
      "sales @ 23 : 660\n",
      "income @ 23 : 15180\n",
      "profit @ 23 : 7180\n",
      "sales @ 24 : 580\n",
      "income @ 24 : 13920\n",
      "profit @ 24 : 5920\n",
      "sales @ 25 : 500\n",
      "income @ 25 : 12500\n",
      "profit @ 25 : 4500\n",
      "sales @ 26 : 420\n",
      "income @ 26 : 10920\n",
      "profit @ 26 : 2920\n",
      "sales @ 27 : 340\n",
      "income @ 27 : 9180\n",
      "profit @ 27 : 1180\n",
      "sales @ 28 : 260\n",
      "income @ 28 : 7280\n",
      "profit @ 28 : -720\n",
      "sales @ 29 : 180\n",
      "income @ 29 : 5220\n",
      "profit @ 29 : -2780\n",
      "Price\tIncome\tProfit\n",
      "-----\t------\t------\n",
      "£ 1 \t 2000 \t -6000\n",
      "£ 2 \t 4000 \t -4000\n",
      "£ 3 \t 6000 \t -2000\n",
      "£ 4 \t 8000 \t 0\n",
      "£ 5 \t 10000 \t 2000\n",
      "£ 6 \t 12000 \t 4000\n",
      "£ 7 \t 13580 \t 5580\n",
      "£ 8 \t 14880 \t 6880\n",
      "£ 9 \t 16020 \t 8020\n",
      "£ 10 \t 17000 \t 9000\n",
      "£ 11 \t 17820 \t 9820\n",
      "£ 12 \t 18480 \t 10480\n",
      "£ 13 \t 18980 \t 10980\n",
      "£ 14 \t 19320 \t 11320\n",
      "£ 15 \t 19500 \t 11500\n",
      "£ 16 \t 19520 \t 11520\n",
      "£ 17 \t 19380 \t 11380\n",
      "£ 18 \t 19080 \t 11080\n",
      "£ 19 \t 18620 \t 10620\n",
      "£ 20 \t 18000 \t 10000\n",
      "£ 21 \t 17220 \t 9220\n",
      "£ 22 \t 16280 \t 8280\n",
      "£ 23 \t 15180 \t 7180\n",
      "£ 24 \t 13920 \t 5920\n",
      "£ 25 \t 12500 \t 4500\n",
      "£ 26 \t 10920 \t 2920\n",
      "£ 27 \t 9180 \t 1180\n",
      "£ 28 \t 7280 \t -720\n",
      "£ 29 \t 5220 \t -2780\n",
      "********************\n",
      "********************\n",
      "********************\n",
      "********************\n",
      "********************\n",
      "********************\n",
      "********************\n",
      "********************\n",
      "********************\n",
      "********************\n",
      "********************\n",
      "********************\n",
      "********************\n",
      "********************\n",
      "********************\n",
      "********************\n",
      "********************\n",
      "********************\n",
      "********************\n",
      "********************\n",
      "********************\n",
      "********************\n",
      "********************\n",
      "********************\n",
      "********************\n",
      "********************\n",
      "********************\n",
      "********************\n",
      "********************\n"
     ]
    },
    {
     "data": {
      "text/plain": [
       "<Figure size 640x480 with 1 Axes>"
      ]
     },
     "metadata": {},
     "output_type": "display_data"
    }
   ],
   "source": [
    "def profitTable(maxPrice):\n",
    "    print ('Price\\tIncome\\tProfit')\n",
    "    print ('-----\\t------\\t------')\n",
    "    for price in range(1, maxPrice):\n",
    "        sales = 2500 - 80 * price\n",
    "        print (\"sales @\", price, \":\", sales)\n",
    "        if sales > 2000:\n",
    "            sales = 2000\n",
    "        income = sales * price\n",
    "        profit = income - 8000\n",
    "        print (\"income @\", int(price), \":\", int(income))\n",
    "        print (\"profit @\", int(price), \":\", int(profit))\n",
    "    profitTable2(maxPrice)\n",
    "        \n",
    "def profitTable2(maxPrice):\n",
    "    print ('Price\\tIncome\\tProfit')\n",
    "    print ('-----\\t------\\t------')\n",
    "    for price in range(1, maxPrice):\n",
    "        sales = 2500 - 80 * price\n",
    "        if sales > 2000:\n",
    "            sales = 2000\n",
    "        income = sales * price\n",
    "        profit = income - 8000\n",
    "        print('£', price, '\\t', income, '\\t', profit)\n",
    "\n",
    "profitTable(30)\n",
    "\n",
    "def profitList(maxPrice):\n",
    "    prices = []\n",
    "    profits = []\n",
    "    for price in range(1, maxPrice):\n",
    "        sales = 2500 - 80 * price\n",
    "        if sales > 2000:\n",
    "            sales = 2000\n",
    "        income = sales * price\n",
    "        profit = income - 8000\n",
    "        prices.append(price)\n",
    "        profits.append(profit)\n",
    "        print (\"*\"*20)\n",
    "    return (prices, profits)\n",
    "\n",
    "import matplotlib.pyplot as plt\n",
    "prices, profits = profitList(30)\n",
    "plt.plot(prices, profits)\n",
    "plt.ylabel('profit')\n",
    "plt.xlabel('price')\n",
    "plt.show()"
   ]
  }
 ],
 "metadata": {
  "kernelspec": {
   "display_name": "Python 3",
   "language": "python",
   "name": "python3"
  },
  "language_info": {
   "codemirror_mode": {
    "name": "ipython",
    "version": 3
   },
   "file_extension": ".py",
   "mimetype": "text/x-python",
   "name": "python",
   "nbconvert_exporter": "python",
   "pygments_lexer": "ipython3",
   "version": "3.7.4"
  }
 },
 "nbformat": 4,
 "nbformat_minor": 2
}
