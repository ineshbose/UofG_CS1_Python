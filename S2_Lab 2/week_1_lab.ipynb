{
 "cells": [
  {
   "cell_type": "markdown",
   "metadata": {},
   "source": [
    "## Task 1: Word Frequencies\n",
    "\n",
    "Define a function which is given a string and returns a dictionary with words (strings) as keys and numbers as values, showing how many times each word occurs in the original string."
   ]
  },
  {
   "cell_type": "code",
   "execution_count": 1,
   "metadata": {},
   "outputs": [],
   "source": [
    "def wordFreq(w):\n",
    "    d = {}\n",
    "    wordList = removeNonLetters(w.lower()).split(\" \")\n",
    "    for word in wordList:\n",
    "        d[word] = d.get(word,0) + 1\n",
    "    return d"
   ]
  },
  {
   "cell_type": "markdown",
   "metadata": {},
   "source": [
    "## Task 2: Swap Sort\n",
    "\n",
    "__SwapSort__ is a bit similar to __BubbleSort__. In __SwapSort__, during the first pass the first and second elements are compared, but then the third and fourth elements are compared, and so on until the end of the list is reached. During the second pass, the first element is skipped and the second and third elements are compared, then the fourth and fifth and so on. Write a function that implements the `swapSort` algorithm for sorting a list of integers."
   ]
  },
  {
   "cell_type": "code",
   "execution_count": 2,
   "metadata": {},
   "outputs": [],
   "source": [
    "def swapSort(alist):\n",
    "    for i in range(len(alist)/2):\n",
    "        for j in range(0,len(alist)-1, 2):\n",
    "            if alist[j]>alist[j+1]:\n",
    "                alist[j], alist[j+1] = alist[j+1], alist[j]\n",
    "        for j in range(1,len(alist)-1, 2):\n",
    "            if alist[j]>alist[j+1]:\n",
    "                alist[j], alist[j+1] = alist[j+1], alist[j]\n",
    "        print(i, alist)\n",
    "    return alist"
   ]
  },
  {
   "cell_type": "markdown",
   "metadata": {},
   "source": [
    "## Task 3: Modified Selection Sort\n",
    "\n",
    "Implement a modified version of the Selection Sort algorithm where:\n",
    "\n",
    "* Instead of finding the smallest element in the list and swapping it with an element at the beginning of the list,\n",
    "* you need to find both the smallest and the largest elements and swap them with elements at the beginning and end of the list respectively.\n",
    "\n",
    "You are required to select the largest numbers in one pass. In other words, your implementation should only include a single loop for finding both the smallest and largest numbers."
   ]
  },
  {
   "cell_type": "code",
   "execution_count": 3,
   "metadata": {},
   "outputs": [],
   "source": [
    "def selectionSort(alist):\n",
    "    for i in range(len(alist) / 2 + len(alist) % 2):\n",
    "        min_index = i\n",
    "        max_index = i\n",
    "        minimum = alist[min_index]\n",
    "        maximum = alist[max_index]\n",
    "        for j in range(i+1, len(alist) - i):\n",
    "            if alist[min_index] > alist[j]: \n",
    "                min_index = j \n",
    "                minimum = alist[min_index]\n",
    "            if alist[max_index] <= alist[j]:\n",
    "                max_index = j \n",
    "                maximum = alist[max_index]\n",
    "        alist[min_index] = alist[i]\n",
    "        alist[i] = minimum\n",
    "        if (max_index == i):\n",
    "            max_index = min_index\n",
    "        alist[max_index] = alist[len(alist) - 1 - i]\n",
    "        alist[len(alist) - 1 - i] = maximum       \n",
    "    return alist "
   ]
  }
 ],
 "metadata": {
  "kernelspec": {
   "display_name": "Python 3",
   "language": "python",
   "name": "python3"
  },
  "language_info": {
   "codemirror_mode": {
    "name": "ipython",
    "version": 3
   },
   "file_extension": ".py",
   "mimetype": "text/x-python",
   "name": "python",
   "nbconvert_exporter": "python",
   "pygments_lexer": "ipython3",
   "version": "3.7.4"
  }
 },
 "nbformat": 4,
 "nbformat_minor": 2
}
