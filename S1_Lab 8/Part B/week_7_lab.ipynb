{
 "cells": [
  {
   "cell_type": "markdown",
   "metadata": {},
   "source": [
    "# Week 7 : Lab Part B\n",
    " ## Test, log, debug and optimize\n",
    " ##### CS1P - University of Glasgow - John H. Williamson - 2019/2020 -- Python 3.x"
   ]
  },
  {
   "cell_type": "code",
   "execution_count": 1,
   "metadata": {},
   "outputs": [
    {
     "name": "stdout",
     "output_type": "stream",
     "text": [
      "All loaded OK\n"
     ]
    }
   ],
   "source": [
    "## RUN THIS CELL FIRST!\n",
    "%load_ext autoreload\n",
    "%autoreload 2\n",
    "\n",
    "from utils.tick import tick\n",
    "from utils.test_utils import should_pass, should_fail, test_dups, report_execution_time\n",
    "from utils.test_utils import defuse, begin_defusal, detonate, short_hash\n",
    "from utils.complexity import time_complexity            \n",
    "from IPython.core.debugger import set_trace\n",
    "print(\"All loaded OK\")"
   ]
  },
  {
   "cell_type": "markdown",
   "metadata": {},
   "source": [
    "# Part B\n",
    "\n",
    "\n",
    "\n",
    "<img src=\"imgs/bomb.jpg\" width=\"50%\">\n",
    "\n",
    "*Image source: Alexandre Dulaunoy CC-SA-2.0 via flickr.com*\n",
    "\n",
    "Defusing bombs is a risky business. In this section, you will have to defuse a \"logic bomb\" using the debugging tools you now know. "
   ]
  },
  {
   "cell_type": "markdown",
   "metadata": {},
   "source": [
    "## B.1 Careful testing: using `assert`\n",
    "\n",
    "Part of the defusal exercise creating number sequences to type on the numeric input pad that can be used to \"fuzz\" the decoder mechanism. The bomb has some built-in protection against random attacks, which will trip an emergency detonation if it ever sees consecutive sequences of digits.\n",
    "\n",
    "The code below is supposed to remove consecutive \"runs\" (repeated elements) from a list of digits in the range 1-9, so that there are never more than one occurrence of an element next to each other. For example, \n",
    "\n",
    "    [1, 1, 2, 3, 5, 6, 6, 6, 9, 1, 2]  \n",
    "    \n",
    "should become\n",
    "\n",
    "    [1, 2, 3, 5, 6, 9, 1, 2]\n",
    "    \n",
    "The order of elements should be preserved. Note that 1 can appear twice -- the elements are not supposed to be *unique* but just to have all consecutive repeats reduced to a single element.\n",
    "\n",
    "*Any list elements that are not integers in the range 1-9 should be **ignored** in repetition checks and removed from the output.*\n",
    "\n",
    "This code is not a correct implementation; the \"tests\" below are not sufficient. \n",
    "\n",
    "**Task:** Write a set of `assert` statements to thoroughly test the code. Find edge cases where the code does *not* work, and *fix* all of them."
   ]
  },
  {
   "cell_type": "code",
   "execution_count": 2,
   "metadata": {},
   "outputs": [],
   "source": [
    "def remove_duplicates(l):    \n",
    "    # this will totally work!\n",
    "    for ix in range(len(l)):\n",
    "        if l[ix-1] == l[ix] or (l[ix]<1 or l[ix]>9):\n",
    "            l.remove(l[ix])\n",
    "    return l\n",
    "\n",
    "# hope these tests are enough!            \n",
    "assert remove_duplicates([1,2,3]) == [1,2,3]\n",
    "assert remove_duplicates([1,2,2]) == [1,2]"
   ]
  },
  {
   "cell_type": "code",
   "execution_count": 3,
   "metadata": {},
   "outputs": [
    {
     "data": {
      "text/html": [
       "\n",
       "        <div class=\"alert alert-box alert-success\">                        \n",
       "        <hr style=\"height:10px;border:none;color:#f00;background-color:#f00;\" /><h1> <font color=\"red\"> ✘ Problem: test failed  </font> </h1>        \n",
       "        </div>\n",
       "        "
      ],
      "text/plain": [
       "<IPython.core.display.HTML object>"
      ]
     },
     "metadata": {},
     "output_type": "display_data"
    },
    {
     "ename": "IndexError",
     "evalue": "list index out of range",
     "output_type": "error",
     "traceback": [
      "\u001b[1;31m---------------------------------------------------------------------------\u001b[0m",
      "\u001b[1;31mIndexError\u001b[0m                                Traceback (most recent call last)",
      "\u001b[1;32m<ipython-input-3-c831ab2db520>\u001b[0m in \u001b[0;36m<module>\u001b[1;34m\u001b[0m\n\u001b[0;32m      3\u001b[0m \u001b[1;31m## you have to write *your* own tests!\u001b[0m\u001b[1;33m\u001b[0m\u001b[1;33m\u001b[0m\u001b[1;33m\u001b[0m\u001b[0m\n\u001b[0;32m      4\u001b[0m \u001b[1;32mwith\u001b[0m \u001b[0mtick\u001b[0m\u001b[1;33m(\u001b[0m\u001b[1;33m)\u001b[0m\u001b[1;33m:\u001b[0m\u001b[1;33m\u001b[0m\u001b[1;33m\u001b[0m\u001b[0m\n\u001b[1;32m----> 5\u001b[1;33m     \u001b[0mtest_dups\u001b[0m\u001b[1;33m(\u001b[0m\u001b[0mremove_duplicates\u001b[0m\u001b[1;33m)\u001b[0m\u001b[1;33m\u001b[0m\u001b[1;33m\u001b[0m\u001b[0m\n\u001b[0m",
      "\u001b[1;32m~\\Desktop\\1P\\week_7_lab_part_b\\utils\\test_utils.py\u001b[0m in \u001b[0;36mtest_dups\u001b[1;34m(remove_duplicates)\u001b[0m\n\u001b[0;32m     24\u001b[0m \u001b[1;33m\u001b[0m\u001b[0m\n\u001b[0;32m     25\u001b[0m \u001b[1;32mdef\u001b[0m \u001b[0mtest_dups\u001b[0m\u001b[1;33m(\u001b[0m\u001b[0mremove_duplicates\u001b[0m\u001b[1;33m)\u001b[0m\u001b[1;33m:\u001b[0m\u001b[1;33m\u001b[0m\u001b[1;33m\u001b[0m\u001b[0m\n\u001b[1;32m---> 26\u001b[1;33m     \u001b[0mexec\u001b[0m\u001b[1;33m(\u001b[0m\u001b[0mbase64\u001b[0m\u001b[1;33m.\u001b[0m\u001b[0mb64decode\u001b[0m\u001b[1;33m(\u001b[0m\u001b[1;34mb'CmFzc2VydCByZW1vdmVfZHVwbGljYXRlcyhbXSk9PVtdICMgZW1wdHkKYXNzZXJ0IHJlbW92ZV9kdXBsaWNhdGVzKFsxLCAxLCAyLCAzLCA1LCA2LCA2LCA2LCA5LCAxLCAyXSkgPT0gWzEsIDIsIDMsIDUsIDYsIDksIDEsIDJdCmFzc2VydCByZW1vdmVfZHVwbGljYXRlcyhbTm9uZV0pPT1bXSAjIE5vbmUKYXNzZXJ0IHJlbW92ZV9kdXBsaWNhdGVzKFtOb25lLCBOb25lXSk9PVtdICMgTm9uZQphc3NlcnQgcmVtb3ZlX2R1cGxpY2F0ZXMoWzFdKT09WzFdICMgc2luZ2xlCmFzc2VydCByZW1vdmVfZHVwbGljYXRlcyhbMSwgMV0pPT1bMV0gIyBzaW5nbGUgZHVwbGljYXRlCmFzc2VydCByZW1vdmVfZHVwbGljYXRlcyhbMSwgMywgMV0pPT1bMSwgMywgMV0gIyBlZGdlLXdyYXAKYXNzZXJ0IHJlbW92ZV9kdXBsaWNhdGVzKFsyLDEsMV0pPT1bMiwxXSAjIHNpbmdsZSBmb2xsb3dlZCBieSBkdXAuCmFzc2VydCByZW1vdmVfZHVwbGljYXRlcyhbMiwyLDFdKT09WzIsIDFdICMgZHVwLiBmb2xsb3dlZCBieSBzaW5nbGUKYXNzZXJ0IHJlbW92ZV9kdXBsaWNhdGVzKFsyLDIsMSwxLDIsMl0pPT1bMiwxLDJdICMgdHdvIGR1cAphc3NlcnQgcmVtb3ZlX2R1cGxpY2F0ZXMoWzEsMSwgMiwyLCAzLDNdKT09WzEsMiwzXSAjIHRocmVlIGR1cCwgc2VwYXJhdGVkCmFzc2VydCByZW1vdmVfZHVwbGljYXRlcyhbMSwxLDFdKT09WzFdICMgdHJpcGxlCmFzc2VydCByZW1vdmVfZHVwbGljYXRlcyhbOSw5LDksOSw5XSk9PVs5XSAjIHF1YWQKYXNzZXJ0IHJlbW92ZV9kdXBsaWNhdGVzKFs5LCJhIiw5LDksOV0pPT1bOV0gIyBub24tZGlnaXQKYXNzZXJ0IHJlbW92ZV9kdXBsaWNhdGVzKFs5LCJhIiw5LDksImEiXSk9PVs5XSAjIG5vbi1kaWdpdAphc3NlcnQgcmVtb3ZlX2R1cGxpY2F0ZXMoWzksImEiLDksOSwiYSIsOV0pPT1bOV0gIyBub24tZGlnaXQKYXNzZXJ0IHJlbW92ZV9kdXBsaWNhdGVzKFs5LCIzIiwxLDEsIjIiLDldKT09WzksMSw5XSAjIG5vbi1kaWdpdAphc3NlcnQgcmVtb3ZlX2R1cGxpY2F0ZXMoWyJhIl0pPT1bXSAjIG5vbi1kaWdpdAo='\u001b[0m\u001b[1;33m)\u001b[0m\u001b[1;33m.\u001b[0m\u001b[0mdecode\u001b[0m\u001b[1;33m(\u001b[0m\u001b[1;34m\"ascii\"\u001b[0m\u001b[1;33m)\u001b[0m\u001b[1;33m)\u001b[0m\u001b[1;33m\u001b[0m\u001b[1;33m\u001b[0m\u001b[0m\n\u001b[0m\u001b[0;32m     27\u001b[0m \u001b[1;33m\u001b[0m\u001b[0m\n\u001b[0;32m     28\u001b[0m \u001b[1;33m\u001b[0m\u001b[0m\n",
      "\u001b[1;32m~\\Desktop\\1P\\week_7_lab_part_b\\utils\\test_utils.py\u001b[0m in \u001b[0;36m<module>\u001b[1;34m\u001b[0m\n",
      "\u001b[1;32m<ipython-input-2-5d644de5c0a9>\u001b[0m in \u001b[0;36mremove_duplicates\u001b[1;34m(l)\u001b[0m\n\u001b[0;32m      2\u001b[0m     \u001b[1;31m# this will totally work!\u001b[0m\u001b[1;33m\u001b[0m\u001b[1;33m\u001b[0m\u001b[1;33m\u001b[0m\u001b[0m\n\u001b[0;32m      3\u001b[0m     \u001b[1;32mfor\u001b[0m \u001b[0mix\u001b[0m \u001b[1;32min\u001b[0m \u001b[0mrange\u001b[0m\u001b[1;33m(\u001b[0m\u001b[0mlen\u001b[0m\u001b[1;33m(\u001b[0m\u001b[0ml\u001b[0m\u001b[1;33m)\u001b[0m\u001b[1;33m)\u001b[0m\u001b[1;33m:\u001b[0m\u001b[1;33m\u001b[0m\u001b[1;33m\u001b[0m\u001b[0m\n\u001b[1;32m----> 4\u001b[1;33m         \u001b[1;32mif\u001b[0m \u001b[0ml\u001b[0m\u001b[1;33m[\u001b[0m\u001b[0mix\u001b[0m\u001b[1;33m-\u001b[0m\u001b[1;36m1\u001b[0m\u001b[1;33m]\u001b[0m \u001b[1;33m==\u001b[0m \u001b[0ml\u001b[0m\u001b[1;33m[\u001b[0m\u001b[0mix\u001b[0m\u001b[1;33m]\u001b[0m \u001b[1;32mor\u001b[0m \u001b[1;33m(\u001b[0m\u001b[0ml\u001b[0m\u001b[1;33m[\u001b[0m\u001b[0mix\u001b[0m\u001b[1;33m]\u001b[0m\u001b[1;33m<\u001b[0m\u001b[1;36m1\u001b[0m \u001b[1;32mor\u001b[0m \u001b[0ml\u001b[0m\u001b[1;33m[\u001b[0m\u001b[0mix\u001b[0m\u001b[1;33m]\u001b[0m\u001b[1;33m>\u001b[0m\u001b[1;36m9\u001b[0m\u001b[1;33m)\u001b[0m\u001b[1;33m:\u001b[0m\u001b[1;33m\u001b[0m\u001b[1;33m\u001b[0m\u001b[0m\n\u001b[0m\u001b[0;32m      5\u001b[0m             \u001b[0ml\u001b[0m\u001b[1;33m.\u001b[0m\u001b[0mremove\u001b[0m\u001b[1;33m(\u001b[0m\u001b[0ml\u001b[0m\u001b[1;33m[\u001b[0m\u001b[0mix\u001b[0m\u001b[1;33m]\u001b[0m\u001b[1;33m)\u001b[0m\u001b[1;33m\u001b[0m\u001b[1;33m\u001b[0m\u001b[0m\n\u001b[0;32m      6\u001b[0m     \u001b[1;32mreturn\u001b[0m \u001b[0ml\u001b[0m\u001b[1;33m\u001b[0m\u001b[1;33m\u001b[0m\u001b[0m\n",
      "\u001b[1;31mIndexError\u001b[0m: list index out of range"
     ]
    }
   ],
   "source": [
    "## Tests\n",
    "## you won't see what caused the error\n",
    "## you have to write *your* own tests!\n",
    "with tick():\n",
    "    test_dups(remove_duplicates)"
   ]
  },
  {
   "cell_type": "code",
   "execution_count": 4,
   "metadata": {
    "lines_to_next_cell": 0
   },
   "outputs": [],
   "source": [
    "# Solution goes here\n",
    "def remove_duplicates(l):    \n",
    "    result = []\n",
    "    for elt in l:\n",
    "        if type(elt)==type(0) and (elt>=1 and elt<=9):\n",
    "            result.append(elt)\n",
    "    final_result = []\n",
    "    prev = None\n",
    "    for ix, elt in enumerate(result):\n",
    "        if  ix==0 or elt!=prev:\n",
    "            final_result.append(elt)        \n",
    "        prev = elt     \n",
    "    return final_result"
   ]
  },
  {
   "cell_type": "code",
   "execution_count": 5,
   "metadata": {},
   "outputs": [
    {
     "data": {
      "text/html": [
       " \n",
       "        <div class=\"alert alert-box alert-success\">\n",
       "        <h1> <font color=\"green\"> ✓ Correct </font> </h1>\n",
       "        </div>\n",
       "        "
      ],
      "text/plain": [
       "<IPython.core.display.HTML object>"
      ]
     },
     "metadata": {},
     "output_type": "display_data"
    }
   ],
   "source": [
    "assert remove_duplicates([])==[]\n",
    "assert remove_duplicates([1, 1, 2, 3, 5, 6, 6, 6, 9, 1, 2]) == [1, 2, 3, 5, 6, 9, 1, 2]\n",
    "assert remove_duplicates([None])==[]\n",
    "assert remove_duplicates([None, None])==[]\n",
    "assert remove_duplicates([1])==[1]\n",
    "assert remove_duplicates([1, 1])==[1]\n",
    "assert remove_duplicates([1, 3, 1])==[1, 3, 1]\n",
    "assert remove_duplicates([2,1,1])==[2,1]\n",
    "assert remove_duplicates([2,2,1])==[2, 1]\n",
    "assert remove_duplicates([2,2,1,1,2,2])==[2,1,2]\n",
    "assert remove_duplicates([1,1, 2,2, 3,3])==[1,2,3]\n",
    "assert remove_duplicates([1,1,1])==[1]\n",
    "assert remove_duplicates([9,9,9,9,9])==[9]\n",
    "assert remove_duplicates([9,\"a\",9,9,9])==[9]\n",
    "assert remove_duplicates([9,\"a\",9,9,\"a\"])==[9]\n",
    "assert remove_duplicates([9,\"a\",9,9,\"a\",9])==[9]\n",
    "assert remove_duplicates([9,\"3\",1,1,\"2\",9])==[9,1,9]\n",
    "assert remove_duplicates([\"a\"])==[]\n",
    "\n",
    "with tick():\n",
    "    test_dups(remove_duplicates)"
   ]
  },
  {
   "cell_type": "markdown",
   "metadata": {},
   "source": [
    "## B.2 Getting the key\n",
    "The bomb has been planted. To start the defusal, you require a defusal key, a particular code that will give you the result you need. However, the bombers are devious and have locked the code so it can't be edited directly. The code below loads and runs the code, calling the function `get_key()` to get the key. It doesn't work without the right variable definitions defined in advance.\n",
    "\n",
    "**Task** Using the `ipdb` debugger (which will start automatically when you run the cell below), work out what the code is doing, and set appropriate *global variables* such that the test below passes. \n",
    "\n",
    "**REMEMBER:** you must quit the debugger with `q` each time you are done. Don't just hit stop or re-run the cell!"
   ]
  },
  {
   "cell_type": "code",
   "execution_count": 6,
   "metadata": {},
   "outputs": [],
   "source": [
    "## Define variables here\n",
    "# they are all positive integers\n",
    "master_key = 0\n",
    "roman = 0\n",
    "gaul = 0\n",
    "egyptian = 0\n",
    "greek = 0"
   ]
  },
  {
   "cell_type": "code",
   "execution_count": 7,
   "metadata": {},
   "outputs": [
    {
     "ename": "NameError",
     "evalue": "name 'get_key' is not defined",
     "output_type": "error",
     "traceback": [
      "\u001b[1;31m---------------------------------------------------------------------------\u001b[0m",
      "\u001b[1;31mNameError\u001b[0m                                 Traceback (most recent call last)",
      "\u001b[1;32m<ipython-input-7-a06a5f70397d>\u001b[0m in \u001b[0;36m<module>\u001b[1;34m\u001b[0m\n\u001b[0;32m      5\u001b[0m \u001b[0megyptian\u001b[0m \u001b[1;33m=\u001b[0m \u001b[1;36m13\u001b[0m\u001b[1;33m\u001b[0m\u001b[1;33m\u001b[0m\u001b[0m\n\u001b[0;32m      6\u001b[0m \u001b[0mgreek\u001b[0m \u001b[1;33m=\u001b[0m \u001b[1;36m5\u001b[0m\u001b[1;33m\u001b[0m\u001b[1;33m\u001b[0m\u001b[0m\n\u001b[1;32m----> 7\u001b[1;33m \u001b[0mget_key\u001b[0m\u001b[1;33m(\u001b[0m\u001b[1;33m)\u001b[0m\u001b[1;33m\u001b[0m\u001b[1;33m\u001b[0m\u001b[0m\n\u001b[0m",
      "\u001b[1;31mNameError\u001b[0m: name 'get_key' is not defined"
     ]
    }
   ],
   "source": [
    "# Solution goes here\n",
    "master_key = 20\n",
    "roman = 5\n",
    "gaul = 3\n",
    "egyptian = 13\n",
    "greek = 5\n",
    "get_key()"
   ]
  },
  {
   "cell_type": "code",
   "execution_count": 8,
   "metadata": {
    "editable": false
   },
   "outputs": [
    {
     "name": "stdout",
     "output_type": "stream",
     "text": [
      "--Return--\n",
      "None\n",
      "> \u001b[1;32m<ipython-input-8-4aafc69d07c3>\u001b[0m(29)\u001b[0;36m<module>\u001b[1;34m()\u001b[0m\n",
      "\u001b[1;32m     26 \u001b[1;33m    \u001b[1;32mreturn\u001b[0m \u001b[0mshort_hash\u001b[0m\u001b[1;33m(\u001b[0m\u001b[0mz\u001b[0m\u001b[1;33m)\u001b[0m\u001b[1;33m\u001b[0m\u001b[1;33m\u001b[0m\u001b[0m\n",
      "\u001b[0m\u001b[1;32m     27 \u001b[1;33m\u001b[1;33m\u001b[0m\u001b[0m\n",
      "\u001b[0m\u001b[1;32m     28 \u001b[1;33m\u001b[1;33m\u001b[0m\u001b[0m\n",
      "\u001b[0m\u001b[1;32m---> 29 \u001b[1;33m\u001b[0mset_trace\u001b[0m\u001b[1;33m(\u001b[0m\u001b[1;33m)\u001b[0m  \u001b[1;31m# enter the debugger\u001b[0m\u001b[1;33m\u001b[0m\u001b[1;33m\u001b[0m\u001b[0m\n",
      "\u001b[0m\u001b[1;32m     30 \u001b[1;33m\u001b[0mkey\u001b[0m \u001b[1;33m=\u001b[0m \u001b[0mget_key\u001b[0m\u001b[1;33m(\u001b[0m\u001b[1;33m)\u001b[0m\u001b[1;33m\u001b[0m\u001b[1;33m\u001b[0m\u001b[0m\n",
      "\u001b[0m\n",
      "ipdb> c\n",
      "[8, 13, -5, 'Babylon']\n"
     ]
    }
   ],
   "source": [
    "## Then run this\n",
    "## *you cannot edit this cell*\n",
    "codes = [\"Rome\", \"Byzantium\", \"Carthage\", \"Italica\", \"Thebes\", \"Babylon\"]\n",
    "\n",
    "\n",
    "def stepr(x):\n",
    "    j = 9\n",
    "    while x > 0:\n",
    "        x = x - roman\n",
    "        j = j - 1\n",
    "    return roman + x, codes[j]\n",
    "\n",
    "\n",
    "def lemur(x):\n",
    "    return [x, x + greek, x - egyptian]\n",
    "\n",
    "\n",
    "def get_key():\n",
    "    z, banjo = stepr(master_key)\n",
    "    z += gaul\n",
    "    z = lemur(z)\n",
    "    z += [banjo]\n",
    "    print(z)\n",
    "    assert z == [8, 13, -5, \"Babylon\"]\n",
    "    # if you get here, you've solved the puzzle\n",
    "    return short_hash(z)\n",
    "\n",
    "\n",
    "set_trace()  # enter the debugger\n",
    "key = get_key()"
   ]
  },
  {
   "cell_type": "code",
   "execution_count": 9,
   "metadata": {},
   "outputs": [
    {
     "name": "stdout",
     "output_type": "stream",
     "text": [
      "5176c5b3 dbf33d76\n"
     ]
    },
    {
     "data": {
      "text/html": [
       " \n",
       "        <div class=\"alert alert-box alert-success\">\n",
       "        <h1> <font color=\"green\"> ✓ Correct </font> </h1>\n",
       "        </div>\n",
       "        "
      ],
      "text/plain": [
       "<IPython.core.display.HTML object>"
      ]
     },
     "metadata": {},
     "output_type": "display_data"
    }
   ],
   "source": [
    "## Tests\n",
    "with tick():    \n",
    "    print(key, short_hash(key))\n",
    "    assert short_hash(key) == \"dbf33d76\"    "
   ]
  },
  {
   "cell_type": "markdown",
   "metadata": {},
   "source": [
    "## B.2 Checking the inputs\n",
    "\n",
    "The next stage involves feeding carefully chosen test data into the bomb's decoder. You *must* make sure this data is valid before it is applied to the decoder or you risk unexpected explosions. Each defusal \"tool\" is wrapped up as a function. You have to implement functions that will test these functions work right before the bomb squad apply them to the device.\n",
    "\n",
    "Write functions that define tests that test and raise an `AssertionError` if the function they are passed does not satisfy the requirements given. For example, we might write a function to test if another function correctly removes spaces from a string:\n",
    "    "
   ]
  },
  {
   "cell_type": "code",
   "execution_count": 10,
   "metadata": {},
   "outputs": [],
   "source": [
    "# this is the testing function\n",
    "def test_remove_spaces(fn):\n",
    "    assert fn(\"test me\") == \"testme\"\n",
    "    assert fn(\"\") == \"\"\n",
    "    assert fn(\"   \")==\"\"\n",
    "    assert fn(\"  - - \")==\"--\"    "
   ]
  },
  {
   "cell_type": "code",
   "execution_count": 11,
   "metadata": {},
   "outputs": [
    {
     "data": {
      "text/html": [
       " \n",
       "        <div class=\"alert alert-box alert-success\">\n",
       "        <h1> <font color=\"green\"> ✓ Correct </font> </h1>\n",
       "        </div>\n",
       "        "
      ],
      "text/plain": [
       "<IPython.core.display.HTML object>"
      ]
     },
     "metadata": {},
     "output_type": "display_data"
    }
   ],
   "source": [
    "## Test that the test works and spaces never get to the bomb\n",
    "def remove_spaces_bad(s):\n",
    "    if \" \" in s:\n",
    "        return s[:s.index(\" \")] + s[s.index(\" \")+1:]\n",
    "        \n",
    "def remove_spaces_good(s):\n",
    "    return s.replace(\" \", \"\")\n",
    "\n",
    "with tick():    \n",
    "    should_fail(test_remove_spaces, remove_spaces_bad)\n",
    "    should_pass(test_remove_spaces, remove_spaces_good)\n",
    "        "
   ]
  },
  {
   "cell_type": "markdown",
   "metadata": {},
   "source": [
    "Write similar testing functions like `test_remove_spaces()` for each of the following problems, and verify that your testing function behaves correctly."
   ]
  },
  {
   "cell_type": "markdown",
   "metadata": {},
   "source": [
    "**Reversing a string**"
   ]
  },
  {
   "cell_type": "code",
   "execution_count": 12,
   "metadata": {},
   "outputs": [],
   "source": [
    "def test_reverse(fn):\n",
    "    pass # add assertions"
   ]
  },
  {
   "cell_type": "code",
   "execution_count": 13,
   "metadata": {},
   "outputs": [],
   "source": [
    "# Solution goes here\n",
    "def test_reverse(fn):\n",
    "    assert fn(\"\")==\"\"\n",
    "    assert fn(\"a\")==\"a\"\n",
    "    assert fn(\"abba\")==\"abba\"\n",
    "    assert fn(\"aba\")==\"aba\"\n",
    "    assert fn(\"aBa\")==\"aBa\"\n",
    "    assert fn(\"back\")==\"kcab\""
   ]
  },
  {
   "cell_type": "code",
   "execution_count": 14,
   "metadata": {},
   "outputs": [
    {
     "data": {
      "text/html": [
       " \n",
       "        <div class=\"alert alert-box alert-success\">\n",
       "        <h1> <font color=\"green\"> ✓ Correct </font> </h1>\n",
       "        </div>\n",
       "        "
      ],
      "text/plain": [
       "<IPython.core.display.HTML object>"
      ]
     },
     "metadata": {},
     "output_type": "display_data"
    }
   ],
   "source": [
    "# test_reverse() should test if the function passed \n",
    "# reverses the argument given\n",
    "\n",
    "def reverse_good(s):\n",
    "    return s[::-1]\n",
    "\n",
    "def reverse_bad(s):\n",
    "    return s\n",
    "\n",
    "def reverse_bad_3(s):\n",
    "    return \"\".join(reversed(s.lower()))\n",
    "\n",
    "def reverse_bad_2(s):\n",
    "    ls = list(s)\n",
    "    for i in range(len(s)//2):\n",
    "        ls[i], ls[len(s)-i] = ls[len(s)-i], ls[i] \n",
    "    return \"\".join(ls)\n",
    "\n",
    "with tick():\n",
    "    should_fail(test_reverse, reverse_bad)\n",
    "    should_fail(test_reverse, reverse_bad_2)\n",
    "    should_fail(test_reverse, reverse_bad_3)\n",
    "    should_pass(test_reverse, reverse_good)\n",
    "    "
   ]
  },
  {
   "cell_type": "markdown",
   "metadata": {},
   "source": [
    "**Uppercasing a string**"
   ]
  },
  {
   "cell_type": "code",
   "execution_count": 15,
   "metadata": {},
   "outputs": [],
   "source": [
    "def test_upper(fn):    \n",
    "    pass"
   ]
  },
  {
   "cell_type": "code",
   "execution_count": 16,
   "metadata": {},
   "outputs": [],
   "source": [
    "# Solution goes here\n",
    "def test_upper(fn):    \n",
    "    assert fn(\"\")==\"\"\n",
    "    assert fn(\"a\")==\"A\"\n",
    "    assert fn(\"ABC\")==\"ABC\"\n",
    "    assert fn(\"123\")==\"123\"    \n",
    "    assert fn(\"123abAB\")==\"123ABAB\""
   ]
  },
  {
   "cell_type": "code",
   "execution_count": 17,
   "metadata": {},
   "outputs": [
    {
     "data": {
      "text/html": [
       " \n",
       "        <div class=\"alert alert-box alert-success\">\n",
       "        <h1> <font color=\"green\"> ✓ Correct </font> </h1>\n",
       "        </div>\n",
       "        "
      ],
      "text/plain": [
       "<IPython.core.display.HTML object>"
      ]
     },
     "metadata": {},
     "output_type": "display_data"
    }
   ],
   "source": [
    "# test_upper() should test if the function passed uppercases the string given\n",
    "\n",
    "def upper_good(s):\n",
    "    return s.upper()\n",
    "\n",
    "def upper_bad(s):\n",
    "    upper = ''\n",
    "    for ch in s:\n",
    "        upper += chr(ord(ch)-32)\n",
    "    return upper\n",
    "\n",
    "def upper_bad_2(s):\n",
    "    return s[0].upper() + s[1:].upper() \n",
    "    \n",
    "\n",
    "with tick():\n",
    "    should_pass(test_upper, upper_good)\n",
    "    should_fail(test_upper, upper_bad)\n",
    "    should_fail(test_upper, upper_bad_2)"
   ]
  },
  {
   "cell_type": "markdown",
   "metadata": {},
   "source": [
    "**Interleaving two lists a,b, but only including as many elements as the shorter of the two lists**\n",
    "\n",
    "`interleave([1,2,3], [4,5,6,7])` = [1,4,2,5,3,6]"
   ]
  },
  {
   "cell_type": "code",
   "execution_count": 18,
   "metadata": {},
   "outputs": [],
   "source": [
    "def test_interleave(fn):  \n",
    "    pass"
   ]
  },
  {
   "cell_type": "code",
   "execution_count": 19,
   "metadata": {},
   "outputs": [],
   "source": [
    "# Solution goes here\n",
    "def test_interleave(fn):    \n",
    "    assert fn([],[])==[]\n",
    "    assert fn([],[1])==[]\n",
    "    assert fn([1],[])==[]\n",
    "    assert fn([1,2,3],[\"a\", \"b\", \"c\"])==[1,\"a\",2,\"b\",3,\"c\"]\n",
    "    assert fn([1,2],[\"a\", \"b\", \"c\"])==[1,\"a\",2,\"b\"]\n",
    "    assert fn([1,2,3],[\"a\", \"b\"])==[1,\"a\",2,\"b\"]"
   ]
  },
  {
   "cell_type": "code",
   "execution_count": 20,
   "metadata": {
    "scrolled": true
   },
   "outputs": [
    {
     "data": {
      "text/html": [
       " \n",
       "        <div class=\"alert alert-box alert-success\">\n",
       "        <h1> <font color=\"green\"> ✓ Correct </font> </h1>\n",
       "        </div>\n",
       "        "
      ],
      "text/plain": [
       "<IPython.core.display.HTML object>"
      ]
     },
     "metadata": {},
     "output_type": "display_data"
    }
   ],
   "source": [
    "# test_interleave() should test if the function passed interleaves according to the rule above\n",
    "\n",
    "import itertools\n",
    "def interleave_good(a, b):    \n",
    "    return list(itertools.chain(*zip(a,b)))\n",
    "\n",
    "def interleave_bad(a, b):\n",
    "    interleaved = []\n",
    "    while len(a)>0:\n",
    "        interleaved.append(a.pop(0))\n",
    "        interleaved.append(b.pop(0))\n",
    "    return interleaved\n",
    "\n",
    "def interleave_bad_2(a, b):\n",
    "    if len(b)>0:\n",
    "        return [a[0], b[0]] + interleave_bad_2(a[1:], b[1:])\n",
    "    else:\n",
    "        return []\n",
    "\n",
    "def interleave_bad_3(a, b):\n",
    "    w = len(a)\n",
    "    if a!=b and len(a)/len(b)!=1:\n",
    "        w = min(len(a), len(b))\n",
    "    interleaved = []\n",
    "    for i in range(w):\n",
    "        interleaved.append(a[i])\n",
    "        interleaved.append(b[i])\n",
    "    return interleaved\n",
    "\n",
    "with tick():\n",
    "    should_pass(test_interleave, interleave_good)\n",
    "    should_fail(test_interleave, interleave_bad)\n",
    "    should_fail(test_interleave, interleave_bad_2)\n",
    "    should_fail(test_interleave, interleave_bad_3)\n",
    "    "
   ]
  },
  {
   "cell_type": "markdown",
   "metadata": {},
   "source": []
  },
  {
   "cell_type": "markdown",
   "metadata": {},
   "source": [
    "## B.4 A race against time\n",
    "<img src=\"imgs/timer.gif\">\n",
    "\n",
    "At the last stage of defusal, there is a timelock that gives you only  a few seconds to enter the final unlock code. \n",
    "\n",
    "You have to find a way to search for the final defusal code quickly enough that you find the key before the bomb relocks itself. The code below will defuse the final stage of the bomb, but it is too slow to complete before the timelock re-engages.\n",
    "\n",
    "Use `%%timeit` to time the execution of this code. Find a way to make this code (much) faster, that still passes the test.\n"
   ]
  },
  {
   "cell_type": "code",
   "execution_count": 21,
   "metadata": {},
   "outputs": [],
   "source": [
    "## Slow version\n",
    "\n",
    "def factorise(number):\n",
    "    candidates =[]    \n",
    "    for i in range(2, number+1):\n",
    "        # is it divisible? if so append it\n",
    "        if number%i==0:\n",
    "            candidates.append(i)\n",
    "            \n",
    "    return candidates\n",
    "\n",
    "def crack_the_code_slow():\n",
    "    # This code will generate test sequences for the defuser.\n",
    "    #\n",
    "    # We know that the pattern involves factorising one of 100\n",
    "    # secret numbers that we have in the file secret_numbers.txt\n",
    "    #\n",
    "    # The code to be generated is the digits of each unique prime\n",
    "    # factor of one of the numbers, all joined into one string\n",
    "    #\n",
    "    # We just don't know which one produces the right code, so\n",
    "    # we can test them all.    \n",
    "    digit_sequence = \"\"\n",
    "    # test all 15 numbers\n",
    "    for i in range(15):\n",
    "        print(i, end=\" \")\n",
    "        # read in th numbers\n",
    "        with open(\"secret_numbers.txt\") as f:\n",
    "            for j, line in enumerate(f):\n",
    "                # find the right line for this number\n",
    "                if i==j:\n",
    "                    n = int(line) # convert to integer\n",
    "                    \n",
    "        primes = []\n",
    "        \n",
    "        # compute the prime numbers\n",
    "        for i in range(10_000):\n",
    "            candidates = factorise(i)\n",
    "            # is it prime (has no factors other than 1 and itself?)\n",
    "            if len(candidates)==1:\n",
    "                primes = primes + [i]\n",
    "        \n",
    "        # now factor the number\n",
    "        factors = factorise(n)\n",
    "        \n",
    "        # filter to keep only the primes\n",
    "        prime_factors = []\n",
    "        for factor in factors:\n",
    "            # only keep prime factors, otherwise reject them\n",
    "            if factor in primes:\n",
    "                prime_factors.append(factor)\n",
    "                \n",
    "        # now build the string up        \n",
    "        for factor in prime_factors:\n",
    "            # add the string version of each digit\n",
    "            digit_sequence = digit_sequence + str(factor)\n",
    "        \n",
    "    return digit_sequence\n",
    "            \n"
   ]
  },
  {
   "cell_type": "code",
   "execution_count": 22,
   "metadata": {},
   "outputs": [],
   "source": [
    "def crack_the_code_fast():\n",
    "    # you need to rewrite the code above, not\n",
    "    # just call the slow version\n",
    "    return crack_the_code_slow()"
   ]
  },
  {
   "cell_type": "code",
   "execution_count": 23,
   "metadata": {},
   "outputs": [
    {
     "name": "stdout",
     "output_type": "stream",
     "text": [
      "0 1 2 3 4 5 6 7 8 9 10 11 12 13 14 1min 46s ± 0 ns per loop (mean ± std. dev. of 1 run, 1 loop each)\n"
     ]
    }
   ],
   "source": [
    "%%timeit -n1 -r1\n",
    "# note: it takes a long time to run the \n",
    "# validation test, so experiment here before moving on\n",
    "crack_the_code_fast()"
   ]
  },
  {
   "cell_type": "code",
   "execution_count": 24,
   "metadata": {},
   "outputs": [
    {
     "name": "stdout",
     "output_type": "stream",
     "text": [
      "0 1 2 3 4 5 6 7 8 9 10 11 12 13 14 0 1 2 3 4 5 6 7 8 9 10 11 12 13 14 0 1 2 3 4 5 6 7 8 9 10 11 12 13 14 0 1 2 3 4 5 6 7 8 9 10 11 12 13 14 \n",
      "Speed ratio: 1.1x faster\n"
     ]
    }
   ],
   "source": [
    "## Tests\n",
    "import random\n",
    "with open(\"secret_numbers.txt\", \"w\") as f:\n",
    "    for i in range(15):\n",
    "        print(\"{:d}\".format(random.randint(100, 10000)), file=f)\n",
    "                                   \n",
    "assert crack_the_code_fast() == crack_the_code_slow()            \n",
    "# check it is fast enough\n",
    "report_execution_time(crack_the_code_fast)    "
   ]
  },
  {
   "cell_type": "code",
   "execution_count": 25,
   "metadata": {},
   "outputs": [],
   "source": [
    "# Solution goes here\n",
    "def factorise(number):\n",
    "    candidates =[]    \n",
    "    for i in range(2, number+1):\n",
    "        if number%i==0:\n",
    "            candidates.append(i)\n",
    "    return candidates\n",
    "\n",
    "primes = {}\n",
    "\n",
    "for i in range(10_000):\n",
    "    candidates = factorise(i)\n",
    "    if len(candidates)==1:\n",
    "        primes[i] = True\n",
    "\n",
    "def crack_the_code_fast():\n",
    "    nums = []\n",
    "    digits = []\n",
    "    with open(\"secret_numbers.txt\") as f:\n",
    "        for line in f:\n",
    "            nums.append(int(line))\n",
    "    decodes = []\n",
    "    for n in nums:\n",
    "        factors = factorise(n)\n",
    "        prime_factors = []\n",
    "        for factor in factors:\n",
    "            if factor in primes:\n",
    "                prime_factors.append(factor)\n",
    "        for factor in prime_factors:\n",
    "            digits.append(str(factor))\n",
    "    return \"\".join(digits)"
   ]
  },
  {
   "cell_type": "code",
   "execution_count": 26,
   "metadata": {},
   "outputs": [],
   "source": [
    "# Solution goes here\n",
    "def factorise(number):\n",
    "    candidates =[]    \n",
    "    for i in range(2, number+1):\n",
    "        if number%i==0:\n",
    "            candidates.append(i)            \n",
    "    return candidates\n",
    "\n",
    "primes = []\n",
    "\n",
    "for i in range(10_000):\n",
    "    candidates = factorise(i)\n",
    "    if len(candidates)==1:\n",
    "        primes.append(i)\n",
    "\n",
    "def crack_the_code_fast():\n",
    "    nums = []\n",
    "    digits = []\n",
    "    with open(\"secret_numbers.txt\") as f:\n",
    "        for line in f:\n",
    "            nums.append(int(line)) \n",
    "    for n in nums:\n",
    "        for factor in primes:\n",
    "            if n % factor:\n",
    "                digits.append(str(factor))\n",
    "            if factor>n:\n",
    "                break\n",
    "    return \"\".join(digits)"
   ]
  },
  {
   "cell_type": "markdown",
   "metadata": {},
   "source": []
  },
  {
   "cell_type": "markdown",
   "metadata": {},
   "source": [
    "# C: Extended problems (OPTIONAL)\n",
    "These *extended* problems are optional for students who are keen to learn more. If you've finished the whole lab and want to explore these ideas in more depth, these problems and resources are intended to help you do that. \n",
    "\n",
    "<div class=\"alert alert-box alert-danger\">\n",
    "    \n",
    "##  You do not need to make any attempt at any of this section to receive a tick! \n",
    "\n",
    "</div>\n",
    "\n"
   ]
  },
  {
   "cell_type": "markdown",
   "metadata": {},
   "source": [
    "## C.1 The tracer (optional extension)\n",
    "\n",
    "The key only decativates part of the bomb. You have to make sure you keep the key parts of the mechanism working and disable everything else. \n",
    "\n",
    "In this task, you have to \"trace\" some terribly written code, by using logging (`print`) statements to track what is going on. \n",
    "\n",
    "It is nearly impossible to see what is going on at first glance, due to complicated structure and terrible naming. Carefully add your own `print` statements log the behaviour and work out what is happening in this code, step by step. **Don't try and use the debugger in this code or you will set off the bomb.**\n",
    "\n",
    "To get the program to defuse, you must:\n",
    "\n",
    "* call the `trigger()` function with particular arguments such that it returns True, and any function marked `@detonate(True)` is never called.\n",
    "* **comment out** (i.e. remove the definition of) any function that can *never* be called under any circumstance (\"dead functions\");\n",
    "\n",
    "You will *only* avoid detonation if you do *both* of these things correctly. `@detonate(False)` indicates that the function does not directly detonate the bomb. `@detonate(True)` will detonate the bomb if called. "
   ]
  },
  {
   "cell_type": "code",
   "execution_count": 27,
   "metadata": {},
   "outputs": [],
   "source": [
    "begin_defusal()  # leave this line as it is\n",
    "\n",
    "@detonate(True)\n",
    "def c0():\n",
    "    a0 = 0\n",
    "    for a1 in range(100):\n",
    "        a0 = a0 + a1\n",
    "    print(a0*a1)\n",
    "\n",
    "\n",
    "@detonate(True)\n",
    "def c1():\n",
    "    a1 = 8\n",
    "    a0 = [\"fluffy\", \"boom\"] * a1\n",
    "    return a0\n",
    "\n",
    "\n",
    "@detonate(False)\n",
    "def c3(p0, p0_):  \n",
    "    if len(p0)%2==1:\n",
    "        p0 = p0_ + [1]\n",
    "    return p0\n",
    "\n",
    "@detonate(False)\n",
    "def c5(p0, p1):\n",
    "    if p0 == p1:\n",
    "        return p0\n",
    "    else:\n",
    "        return p0 + p1\n",
    "\n",
    "@detonate(False)\n",
    "def c6(p0, p1=\"\"):\n",
    "    if len(p0) == 0:\n",
    "        p2 = len(set(p1))\n",
    "        print(p1, p2)\n",
    "        if len(p1) == 8 and p2 == len(p1) // 2:\n",
    "            return True\n",
    "        else:\n",
    "            return False\n",
    "    if p0[0] in \"aeiou\":\n",
    "        return c6(p0[1:], p1)\n",
    "    else:\n",
    "        return c6(p0[1:], p1 + p0[0])\n",
    "\n",
    "@detonate(True)\n",
    "def c10(p0, p1):\n",
    "    return p1 * p0\n",
    "\n",
    "@detonate(True)\n",
    "def c11(p0):\n",
    "    if len(p0) < 2:\n",
    "        return p0\n",
    "    else:\n",
    "        return c11(p0[len(p0) // 2 :]) + c11(p0[0 : len(y) // 2])\n",
    "\n",
    "@detonate(False)\n",
    "def c12(p0):\n",
    "    return p0\n",
    "\n",
    "@detonate(False)\n",
    "def trigger(x, y):\n",
    "\n",
    "    if type(y) == type([]):\n",
    "        c11(y)\n",
    "    if type(y) == type(\"\"):\n",
    "        y = c12(y)\n",
    "    else:\n",
    "        y = c5(x, y)\n",
    "\n",
    "    a0 = \"\"\n",
    "    for a1 in range(x[0], x[1]):\n",
    "        a0 += chr(a1 + ord(\"A\"))\n",
    "\n",
    "    if \"h\" in a0:\n",
    "        c1()\n",
    "    elif \"G\" in a0:\n",
    "        a2 = c5(y, y[::-1])\n",
    "    assert \"Q\" in a0\n",
    "\n",
    "    for a1 in y:\n",
    "        if a1.lower() in a0.lower():\n",
    "            c1()\n",
    "\n",
    "    a2 = c6(a2)\n",
    "    return a2"
   ]
  },
  {
   "cell_type": "code",
   "execution_count": 28,
   "metadata": {},
   "outputs": [],
   "source": [
    "# you must specify values for x and y\n",
    "x = None\n",
    "y = None"
   ]
  },
  {
   "cell_type": "code",
   "execution_count": 29,
   "metadata": {},
   "outputs": [],
   "source": [
    "# Solution goes here\n",
    "x = (5,20)\n",
    "y = 'ADCE'"
   ]
  },
  {
   "cell_type": "code",
   "execution_count": 30,
   "metadata": {
    "lines_to_next_cell": 0
   },
   "outputs": [
    {
     "name": "stdout",
     "output_type": "stream",
     "text": [
      "ADCEECDA 4\n",
      "51b251c9\n"
     ]
    },
    {
     "data": {
      "text/html": [
       "<h1> BOOM! </h1>"
      ],
      "text/plain": [
       "<IPython.core.display.HTML object>"
      ]
     },
     "metadata": {},
     "output_type": "display_data"
    },
    {
     "data": {
      "text/html": [
       "\n",
       "        <div class=\"alert alert-box alert-success\">                        \n",
       "        <hr style=\"height:10px;border:none;color:#f00;background-color:#f00;\" /><h1> <font color=\"red\"> ✘ Problem: test failed  </font> </h1>        \n",
       "        </div>\n",
       "        "
      ],
      "text/plain": [
       "<IPython.core.display.HTML object>"
      ]
     },
     "metadata": {},
     "output_type": "display_data"
    },
    {
     "ename": "AssertionError",
     "evalue": "",
     "output_type": "error",
     "traceback": [
      "\u001b[1;31m---------------------------------------------------------------------------\u001b[0m",
      "\u001b[1;31mAssertionError\u001b[0m                            Traceback (most recent call last)",
      "\u001b[1;32m<ipython-input-30-b5ba422012ca>\u001b[0m in \u001b[0;36m<module>\u001b[1;34m\u001b[0m\n\u001b[0;32m      1\u001b[0m \u001b[1;32mwith\u001b[0m \u001b[0mtick\u001b[0m\u001b[1;33m(\u001b[0m\u001b[1;33m)\u001b[0m\u001b[1;33m:\u001b[0m\u001b[1;33m\u001b[0m\u001b[1;33m\u001b[0m\u001b[0m\n\u001b[0;32m      2\u001b[0m     \u001b[1;32massert\u001b[0m \u001b[0mtrigger\u001b[0m\u001b[1;33m(\u001b[0m\u001b[0mx\u001b[0m\u001b[1;33m,\u001b[0m \u001b[0my\u001b[0m\u001b[1;33m)\u001b[0m\u001b[1;33m\u001b[0m\u001b[1;33m\u001b[0m\u001b[0m\n\u001b[1;32m----> 3\u001b[1;33m     \u001b[0mdefuse\u001b[0m\u001b[1;33m(\u001b[0m\u001b[1;34m\"92a98a01\"\u001b[0m\u001b[1;33m)\u001b[0m\u001b[1;33m\u001b[0m\u001b[1;33m\u001b[0m\u001b[0m\n\u001b[0m",
      "\u001b[1;32m~\\Desktop\\1P\\week_7_lab_part_b\\utils\\test_utils.py\u001b[0m in \u001b[0;36mdefuse\u001b[1;34m(code)\u001b[0m\n\u001b[0;32m    182\u001b[0m         \u001b[0mboom\u001b[0m\u001b[1;33m(\u001b[0m\u001b[1;33m)\u001b[0m\u001b[1;33m\u001b[0m\u001b[1;33m\u001b[0m\u001b[0m\n\u001b[0;32m    183\u001b[0m \u001b[1;33m\u001b[0m\u001b[0m\n\u001b[1;32m--> 184\u001b[1;33m     \u001b[1;32massert\u001b[0m \u001b[0msha\u001b[0m \u001b[1;33m==\u001b[0m \u001b[0mcode\u001b[0m\u001b[1;33m\u001b[0m\u001b[1;33m\u001b[0m\u001b[0m\n\u001b[0m\u001b[0;32m    185\u001b[0m \u001b[1;33m\u001b[0m\u001b[0m\n\u001b[0;32m    186\u001b[0m \u001b[1;32mdef\u001b[0m \u001b[0mfail_if_debug\u001b[0m\u001b[1;33m(\u001b[0m\u001b[1;33m)\u001b[0m\u001b[1;33m:\u001b[0m\u001b[1;33m\u001b[0m\u001b[1;33m\u001b[0m\u001b[0m\n",
      "\u001b[1;31mAssertionError\u001b[0m: "
     ]
    }
   ],
   "source": [
    "with tick():\n",
    "    assert trigger(x, y)\n",
    "    defuse(\"92a98a01\")"
   ]
  },
  {
   "cell_type": "markdown",
   "metadata": {},
   "source": [
    "## C.2 Timing varieties\n",
    "The code below generates \"sorted triangles\" of strings. For example, given the string\n",
    "\n",
    "    \"banjo murderer\"\n",
    "\n",
    "It will produce the list of strings\n",
    "\n",
    "    ['',\n",
    "     ' ',\n",
    "     ' a',\n",
    "     ' ab',\n",
    "     ' abd',\n",
    "     ' abde',\n",
    "     ' abdee',\n",
    "     ' abdeej',\n",
    "     ' abdeejm',\n",
    "     ' abdeejmn',\n",
    "     ' abdeejmno',\n",
    "     ' abdeejmnor',\n",
    "     ' abdeejmnorr',\n",
    "     ' abdeejmnorrr',\n",
    "     ' abdeejmnorrru']\n",
    "     \n",
    "Use `plot_complexity()` along with `random_string` (defined below) to verify that this code take $O(N^3)$ time to run. Hint: you will have to define another, very simple function, that takes a single parameter `n` to work with `plot_complexity`.\n",
    "\n",
    "Think about how to modify it to run in each of these complexities, and write a function that does each one, and plot the complexity graph to verify the runtime:\n",
    "* O(N^2) time `sort_tri_nsqr()`\n",
    "* O(N^2 log N) time `sort_tri_nlogn_sqr()`\n",
    "* O(N log N) time `sort_tri_nlogn()` (harder)\n",
    "\n",
    "Do not try and modify `my_sort(s)`. Instead, consider *replacing it entirely* the built-in Python sort (which runs in O(N log N) time by default).\n"
   ]
  },
  {
   "cell_type": "code",
   "execution_count": 31,
   "metadata": {},
   "outputs": [
    {
     "data": {
      "text/plain": [
       "'ehllo'"
      ]
     },
     "execution_count": 31,
     "metadata": {},
     "output_type": "execute_result"
    }
   ],
   "source": [
    "def my_sort(s):\n",
    "    # DO NOT MODIFY THIS FUNCTION\n",
    "    result = \"\"\n",
    "    for steps in range(len(s)):\n",
    "        # find smallest character\n",
    "        min_ch = chr(255)\n",
    "        for test_ch in s:\n",
    "            # is this a new smaller character?\n",
    "            if test_ch < min_ch:\n",
    "                min_ch = test_ch\n",
    "        result += min_ch # store smallest character\n",
    "        s = s.replace(min_ch, \"\", 1) # remove character from s\n",
    "    return result\n",
    "\n",
    "my_sort(\"hello\")\n",
    "            "
   ]
  },
  {
   "cell_type": "code",
   "execution_count": 32,
   "metadata": {},
   "outputs": [
    {
     "data": {
      "text/plain": [
       "['',\n",
       " ' ',\n",
       " ' a',\n",
       " ' ab',\n",
       " ' abd',\n",
       " ' abde',\n",
       " ' abdee',\n",
       " ' abdeej',\n",
       " ' abdeejm',\n",
       " ' abdeejmn',\n",
       " ' abdeejmno',\n",
       " ' abdeejmnor',\n",
       " ' abdeejmnorr',\n",
       " ' abdeejmnorrr',\n",
       " ' abdeejmnorrru']"
      ]
     },
     "execution_count": 32,
     "metadata": {},
     "output_type": "execute_result"
    }
   ],
   "source": [
    "# This is a very bad way to solve this\n",
    "# problem. But it works!\n",
    "def sort_tri_cube(s):    \n",
    "    tri = []\n",
    "    for i in range(len(s)+1):\n",
    "        s_sorted = my_sort(s)\n",
    "        result = \"\"\n",
    "        for j in range(i):\n",
    "            result += s_sorted[j]\n",
    "        tri += [result]        \n",
    "    return tri\n",
    "\n",
    "sort_tri_cube(\"banjo murderer\")"
   ]
  },
  {
   "cell_type": "code",
   "execution_count": 33,
   "metadata": {},
   "outputs": [
    {
     "data": {
      "text/plain": [
       "['',\n",
       " '#',\n",
       " '#7',\n",
       " '#7F',\n",
       " '#7FG',\n",
       " '#7FGI',\n",
       " '#7FGIK',\n",
       " '#7FGIKL',\n",
       " '#7FGIKL`',\n",
       " '#7FGIKL`r',\n",
       " '#7FGIKL`ry']"
      ]
     },
     "execution_count": 33,
     "metadata": {},
     "output_type": "execute_result"
    }
   ],
   "source": [
    "import string, random\n",
    "\n",
    "def random_string(n):\n",
    "    return \"\".join([random.choice(string.printable) for i in range(n)])   \n",
    "\n",
    "sort_tri_cube(random_string(10))"
   ]
  },
  {
   "cell_type": "code",
   "execution_count": 34,
   "metadata": {
    "lines_to_next_cell": 0
   },
   "outputs": [
    {
     "data": {
      "text/plain": [
       "['',\n",
       " ' ',\n",
       " ' a',\n",
       " ' ab',\n",
       " ' abd',\n",
       " ' abde',\n",
       " ' abdee',\n",
       " ' abdeej',\n",
       " ' abdeejm',\n",
       " ' abdeejmn',\n",
       " ' abdeejmno',\n",
       " ' abdeejmnor',\n",
       " ' abdeejmnorr',\n",
       " ' abdeejmnorrr',\n",
       " ' abdeejmnorrru']"
      ]
     },
     "execution_count": 34,
     "metadata": {},
     "output_type": "execute_result"
    }
   ],
   "source": [
    "# Solution goes here\n",
    "def sort_tri_nlogn_sqr(s):    \n",
    "    tri = []\n",
    "    for i in range(len(s_sorted)+1):\n",
    "        s_sorted = sorted(s) # n log n * n times\n",
    "        tri.append(\"\".join(s_sorted[:i]))        \n",
    "    return tri\n",
    "\n",
    "def sort_tri_nsqr(s):\n",
    "    s_sorted = my_sort(s)\n",
    "    tri = []\n",
    "    for i in range(len(s_sorted)+1):\n",
    "        tri.append(\"\".join(s_sorted[:i]))        \n",
    "    return tri\n",
    "\n",
    "def sort_tri_nlogn(s):\n",
    "    s_sorted = sorted(s)\n",
    "    tri = []\n",
    "    for i in range(len(s_sorted)+1):\n",
    "        tri.append(\"\".join(s_sorted[:i]))        \n",
    "    return tri\n",
    "\n",
    "sort_tri_nlogn(\"banjo murderer\")"
   ]
  },
  {
   "cell_type": "code",
   "execution_count": null,
   "metadata": {},
   "outputs": [],
   "source": []
  }
 ],
 "metadata": {
  "kernelspec": {
   "display_name": "Python 3",
   "language": "python",
   "name": "python3"
  },
  "language_info": {
   "codemirror_mode": {
    "name": "ipython",
    "version": 3
   },
   "file_extension": ".py",
   "mimetype": "text/x-python",
   "name": "python",
   "nbconvert_exporter": "python",
   "pygments_lexer": "ipython3",
   "version": "3.7.4"
  },
  "varInspector": {
   "cols": {
    "lenName": 16,
    "lenType": 16,
    "lenVar": 40
   },
   "kernels_config": {
    "python": {
     "delete_cmd_postfix": "",
     "delete_cmd_prefix": "del ",
     "library": "var_list.py",
     "varRefreshCmd": "print(var_dic_list())"
    },
    "r": {
     "delete_cmd_postfix": ") ",
     "delete_cmd_prefix": "rm(",
     "library": "var_list.r",
     "varRefreshCmd": "cat(var_dic_list()) "
    }
   },
   "types_to_exclude": [
    "module",
    "function",
    "builtin_function_or_method",
    "instance",
    "_Feature"
   ],
   "window_display": false
  }
 },
 "nbformat": 4,
 "nbformat_minor": 2
}
